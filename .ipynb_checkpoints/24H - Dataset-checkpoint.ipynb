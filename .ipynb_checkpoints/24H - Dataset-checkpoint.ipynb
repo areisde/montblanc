{
 "cells": [
  {
   "cell_type": "markdown",
   "id": "521bc888-0971-435c-98d7-d59e68bd2927",
   "metadata": {},
   "source": [
    "# Imports"
   ]
  },
  {
   "cell_type": "code",
   "execution_count": 37,
   "id": "e438524c-94fe-4bfc-a704-9fe23f970a7f",
   "metadata": {},
   "outputs": [],
   "source": [
    "import pandas as pd\n",
    "import numpy as np\n",
    "from sklearn.cluster import KMeans\n",
    "import matplotlib.pyplot as plt"
   ]
  },
  {
   "cell_type": "markdown",
   "id": "84e442a8-5ce6-4186-bf26-885ddde95b26",
   "metadata": {},
   "source": [
    "# Loading data"
   ]
  },
  {
   "cell_type": "code",
   "execution_count": 67,
   "id": "8f3ebc1e-bd3f-48e1-96bf-e29be248c10d",
   "metadata": {},
   "outputs": [],
   "source": [
    "# Load each user's data and merge all of the data together\n",
    "\n",
    "dfs = []\n",
    "for i in range(1, 23):\n",
    "    if i != 21: # jump user 21 because he has no saliva data\n",
    "        # Extract sensor data\n",
    "        dir_ = \"data/24H/user_\" + str(i) + \"/Actigraph.csv\" # Create path\n",
    "        df = pd.read_csv(dir_) # Load data\n",
    "\n",
    "        # Extract stress data\n",
    "        dir_ = \"data/24H/user_\" + str(i) + \"/questionnaire.csv\" # Create path\n",
    "        df_stress = pd.read_csv(dir_) # Load data\n",
    "\n",
    "        # Extract saliva data\n",
    "        dir_ = \"data/24H/user_\" + str(i) + \"/saliva.csv\" # Create path\n",
    "        df_saliva = pd.read_csv(dir_) # Load data\n",
    "\n",
    "        # Append columns to initial dataframe\n",
    "        user_col = (np.ones(len(df)) * i).astype(int)\n",
    "        stress_col = (np.ones(len(df)) * df_stress['Daily_stress'][0]).astype(int)\n",
    "        cortisol_before_sleep_col = (np.ones(len(df)) * df_saliva['Cortisol NORM'][0])\n",
    "\n",
    "        df['user_id'] = user_col\n",
    "        df['stress_level'] = stress_col\n",
    "        df['cortisol_before_sleep'] = cortisol_before_sleep_col\n",
    "        dfs.append(df)\n",
    "    \n",
    "# Concatenate all of them together\n",
    "df_all = pd.concat(dfs)\n",
    "\n",
    "# Drop the first column, which is useless\n",
    "df_all = df_all.drop('Unnamed: 0', axis=1)"
   ]
  },
  {
   "cell_type": "code",
   "execution_count": 68,
   "id": "47c53c96-2349-402c-afbf-21eaf1fda013",
   "metadata": {},
   "outputs": [
    {
     "data": {
      "text/html": [
       "<div>\n",
       "<style scoped>\n",
       "    .dataframe tbody tr th:only-of-type {\n",
       "        vertical-align: middle;\n",
       "    }\n",
       "\n",
       "    .dataframe tbody tr th {\n",
       "        vertical-align: top;\n",
       "    }\n",
       "\n",
       "    .dataframe thead th {\n",
       "        text-align: right;\n",
       "    }\n",
       "</style>\n",
       "<table border=\"1\" class=\"dataframe\">\n",
       "  <thead>\n",
       "    <tr style=\"text-align: right;\">\n",
       "      <th></th>\n",
       "      <th>Axis1</th>\n",
       "      <th>Axis2</th>\n",
       "      <th>Axis3</th>\n",
       "      <th>Steps</th>\n",
       "      <th>HR</th>\n",
       "      <th>Inclinometer Off</th>\n",
       "      <th>Inclinometer Standing</th>\n",
       "      <th>Inclinometer Sitting</th>\n",
       "      <th>Inclinometer Lying</th>\n",
       "      <th>Vector Magnitude</th>\n",
       "      <th>day</th>\n",
       "      <th>time</th>\n",
       "      <th>user_id</th>\n",
       "      <th>stress_level</th>\n",
       "      <th>cortisol_before_sleep</th>\n",
       "    </tr>\n",
       "  </thead>\n",
       "  <tbody>\n",
       "    <tr>\n",
       "      <th>0</th>\n",
       "      <td>0</td>\n",
       "      <td>0</td>\n",
       "      <td>0</td>\n",
       "      <td>0</td>\n",
       "      <td>68.0</td>\n",
       "      <td>0</td>\n",
       "      <td>1</td>\n",
       "      <td>0</td>\n",
       "      <td>0</td>\n",
       "      <td>0.00</td>\n",
       "      <td>1</td>\n",
       "      <td>10:10:22</td>\n",
       "      <td>1</td>\n",
       "      <td>23</td>\n",
       "      <td>0.034137</td>\n",
       "    </tr>\n",
       "    <tr>\n",
       "      <th>1</th>\n",
       "      <td>11</td>\n",
       "      <td>4</td>\n",
       "      <td>7</td>\n",
       "      <td>1</td>\n",
       "      <td>68.0</td>\n",
       "      <td>0</td>\n",
       "      <td>1</td>\n",
       "      <td>0</td>\n",
       "      <td>0</td>\n",
       "      <td>13.64</td>\n",
       "      <td>1</td>\n",
       "      <td>10:10:23</td>\n",
       "      <td>1</td>\n",
       "      <td>23</td>\n",
       "      <td>0.034137</td>\n",
       "    </tr>\n",
       "    <tr>\n",
       "      <th>2</th>\n",
       "      <td>0</td>\n",
       "      <td>21</td>\n",
       "      <td>10</td>\n",
       "      <td>0</td>\n",
       "      <td>68.0</td>\n",
       "      <td>0</td>\n",
       "      <td>0</td>\n",
       "      <td>1</td>\n",
       "      <td>0</td>\n",
       "      <td>23.26</td>\n",
       "      <td>1</td>\n",
       "      <td>10:10:24</td>\n",
       "      <td>1</td>\n",
       "      <td>23</td>\n",
       "      <td>0.034137</td>\n",
       "    </tr>\n",
       "    <tr>\n",
       "      <th>3</th>\n",
       "      <td>0</td>\n",
       "      <td>1</td>\n",
       "      <td>24</td>\n",
       "      <td>0</td>\n",
       "      <td>68.0</td>\n",
       "      <td>0</td>\n",
       "      <td>0</td>\n",
       "      <td>1</td>\n",
       "      <td>0</td>\n",
       "      <td>24.02</td>\n",
       "      <td>1</td>\n",
       "      <td>10:10:25</td>\n",
       "      <td>1</td>\n",
       "      <td>23</td>\n",
       "      <td>0.034137</td>\n",
       "    </tr>\n",
       "    <tr>\n",
       "      <th>4</th>\n",
       "      <td>34</td>\n",
       "      <td>14</td>\n",
       "      <td>63</td>\n",
       "      <td>1</td>\n",
       "      <td>154.0</td>\n",
       "      <td>0</td>\n",
       "      <td>1</td>\n",
       "      <td>0</td>\n",
       "      <td>0</td>\n",
       "      <td>72.95</td>\n",
       "      <td>1</td>\n",
       "      <td>10:10:26</td>\n",
       "      <td>1</td>\n",
       "      <td>23</td>\n",
       "      <td>0.034137</td>\n",
       "    </tr>\n",
       "  </tbody>\n",
       "</table>\n",
       "</div>"
      ],
      "text/plain": [
       "   Axis1  Axis2  Axis3  Steps     HR  Inclinometer Off  Inclinometer Standing  \\\n",
       "0      0      0      0      0   68.0                 0                      1   \n",
       "1     11      4      7      1   68.0                 0                      1   \n",
       "2      0     21     10      0   68.0                 0                      0   \n",
       "3      0      1     24      0   68.0                 0                      0   \n",
       "4     34     14     63      1  154.0                 0                      1   \n",
       "\n",
       "   Inclinometer Sitting  Inclinometer Lying  Vector Magnitude  day      time  \\\n",
       "0                     0                   0              0.00    1  10:10:22   \n",
       "1                     0                   0             13.64    1  10:10:23   \n",
       "2                     1                   0             23.26    1  10:10:24   \n",
       "3                     1                   0             24.02    1  10:10:25   \n",
       "4                     0                   0             72.95    1  10:10:26   \n",
       "\n",
       "   user_id  stress_level  cortisol_before_sleep  \n",
       "0        1            23               0.034137  \n",
       "1        1            23               0.034137  \n",
       "2        1            23               0.034137  \n",
       "3        1            23               0.034137  \n",
       "4        1            23               0.034137  "
      ]
     },
     "execution_count": 68,
     "metadata": {},
     "output_type": "execute_result"
    }
   ],
   "source": [
    "df_all.head()"
   ]
  },
  {
   "cell_type": "markdown",
   "id": "f1d39b1a-a36a-4f99-9637-86870b3a179a",
   "metadata": {},
   "source": [
    "# K-Means Clustering\n",
    "We start with 2 clusters only to setup the pipeline. This could be stressed / not stressed."
   ]
  },
  {
   "cell_type": "code",
   "execution_count": 69,
   "id": "e328f3f5-29d0-4ea0-9a61-fa3bf2c9c4e4",
   "metadata": {},
   "outputs": [],
   "source": [
    "X = df_all[['stress_level', 'HR']]\n",
    "\n",
    "kmeans = KMeans(n_clusters=2, random_state = 0)\n",
    "kmeans.fit(X)\n",
    "y_kmeans = kmeans.predict(X)"
   ]
  },
  {
   "cell_type": "code",
   "execution_count": 70,
   "id": "fbbcfa3b-eb4b-4259-9954-761c6e67c0f2",
   "metadata": {},
   "outputs": [
    {
     "data": {
      "image/png": "[encoded data removed]",
      "text/plain": [
       "<Figure size 432x288 with 1 Axes>"
      ]
     },
     "metadata": {
      "needs_background": "light"
     },
     "output_type": "display_data"
    }
   ],
   "source": [
    "plt.scatter(X['HR'], X['stress_level'], c=y_kmeans, s=50, cmap='viridis')\n",
    "\n",
    "centers = kmeans.cluster_centers_\n",
    "plt.scatter(centers[:, 0], centers[:, 1], c='black', s=200, alpha=0.5);"
   ]
  }
 ],
 "metadata": {
  "kernelspec": {
   "display_name": "Python 3",
   "language": "python",
   "name": "python3"
  },
  "language_info": {
   "codemirror_mode": {
    "name": "ipython",
    "version": 3
   },
   "file_extension": ".py",
   "mimetype": "text/x-python",
   "name": "python",
   "nbconvert_exporter": "python",
   "pygments_lexer": "ipython3",
   "version": "3.8.8"
  }
 },
 "nbformat": 4,
 "nbformat_minor": 5
}
