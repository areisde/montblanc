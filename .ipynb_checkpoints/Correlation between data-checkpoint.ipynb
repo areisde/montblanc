{
 "cells": [
  {
   "cell_type": "markdown",
   "id": "6ea2fc92-bc80-4383-bf62-6e9b21677c8d",
   "metadata": {},
   "source": [
    "# Imports"
   ]
  },
  {
   "cell_type": "markdown",
   "id": "650a7be9-d1d6-443e-b09f-e6deef3f0cd9",
   "metadata": {},
   "source": [
    "### Libraries"
   ]
  },
  {
   "cell_type": "code",
   "execution_count": 82,
   "id": "5bc68253-a836-40ae-80e8-29552c72a3df",
   "metadata": {},
   "outputs": [],
   "source": [
    "%matplotlib inline\n",
    "import numpy as np # linear algebra\n",
    "import pandas as pd # data processing, CSV file I/O (e.g. pd.read_csv)\n",
    "import os\n",
    "from glob import glob\n",
    "import json\n",
    "import matplotlib.pyplot as plt\n",
    "from matplotlib.pyplot import figure\n",
    "import seaborn as sns\n",
    "from pyowm.owm import OWM\n",
    "from pyowm.utils import timestamps, formatting\n",
    "from datetime import datetime, timedelta, timezone"
   ]
  },
  {
   "cell_type": "markdown",
   "id": "5307dbc2-1619-45a9-be39-de70cc838cf8",
   "metadata": {},
   "source": [
    "### Data"
   ]
  },
  {
   "cell_type": "markdown",
   "id": "1829e2b8-51fd-481e-8781-9929d67340d5",
   "metadata": {},
   "source": [
    "##### Heart Beat Data"
   ]
  },
  {
   "cell_type": "code",
   "execution_count": 3,
   "id": "33f0f791-1e86-4149-9ad6-15579eacc571",
   "metadata": {},
   "outputs": [],
   "source": [
    "# Find all json files\n",
    "samsung_base_dir = os.path.join('data', 'Samsung Data', '28.11.2021')\n",
    "\n",
    "json_file_names = []\n",
    "for file in os.listdir(os.path.join(samsung_base_dir, 'jsons', 'com.samsung.health.heart_rate')):\n",
    "    if file != '.ipynb_checkpoints':\n",
    "        json_file_names.append(file)\n",
    "\n",
    "df_json_readings = []\n",
    "for i in range(len(json_file_names)):\n",
    "    file_name = json_file_names[i]\n",
    "    df = pd.read_json(os.path.join(samsung_base_dir,'jsons', 'com.samsung.health.heart_rate', file_name))\n",
    "    df_json_readings.append(df.copy())\n",
    "\n",
    "df_heart_rate_json = pd.concat(df_json_readings, axis=0, ignore_index=True)\n",
    "df_heart_rate_json = df_heart_rate_json.sort_values(by=['start_time'], ascending=True, ignore_index=True)"
   ]
  },
  {
   "cell_type": "code",
   "execution_count": 71,
   "id": "fafb53e1-bd35-40bd-b692-3fd3cbdb102b",
   "metadata": {},
   "outputs": [
    {
     "data": {
      "text/html": [
       "<div>\n",
       "<style scoped>\n",
       "    .dataframe tbody tr th:only-of-type {\n",
       "        vertical-align: middle;\n",
       "    }\n",
       "\n",
       "    .dataframe tbody tr th {\n",
       "        vertical-align: top;\n",
       "    }\n",
       "\n",
       "    .dataframe thead th {\n",
       "        text-align: right;\n",
       "    }\n",
       "</style>\n",
       "<table border=\"1\" class=\"dataframe\">\n",
       "  <thead>\n",
       "    <tr style=\"text-align: right;\">\n",
       "      <th></th>\n",
       "      <th>heart_rate</th>\n",
       "      <th>heart_rate_max</th>\n",
       "      <th>heart_rate_min</th>\n",
       "      <th>start_time</th>\n",
       "      <th>end_time</th>\n",
       "    </tr>\n",
       "  </thead>\n",
       "  <tbody>\n",
       "    <tr>\n",
       "      <th>0</th>\n",
       "      <td>80</td>\n",
       "      <td>82</td>\n",
       "      <td>79</td>\n",
       "      <td>2021-11-28 12:40:00</td>\n",
       "      <td>2021-11-28 12:40:59</td>\n",
       "    </tr>\n",
       "    <tr>\n",
       "      <th>1</th>\n",
       "      <td>83</td>\n",
       "      <td>87</td>\n",
       "      <td>78</td>\n",
       "      <td>2021-11-28 12:41:00</td>\n",
       "      <td>2021-11-28 12:41:59</td>\n",
       "    </tr>\n",
       "    <tr>\n",
       "      <th>2</th>\n",
       "      <td>82</td>\n",
       "      <td>85</td>\n",
       "      <td>80</td>\n",
       "      <td>2021-11-28 12:42:00</td>\n",
       "      <td>2021-11-28 12:42:59</td>\n",
       "    </tr>\n",
       "    <tr>\n",
       "      <th>3</th>\n",
       "      <td>83</td>\n",
       "      <td>86</td>\n",
       "      <td>80</td>\n",
       "      <td>2021-11-28 12:43:00</td>\n",
       "      <td>2021-11-28 12:43:59</td>\n",
       "    </tr>\n",
       "    <tr>\n",
       "      <th>4</th>\n",
       "      <td>80</td>\n",
       "      <td>82</td>\n",
       "      <td>77</td>\n",
       "      <td>2021-11-28 12:44:00</td>\n",
       "      <td>2021-11-28 12:44:59</td>\n",
       "    </tr>\n",
       "  </tbody>\n",
       "</table>\n",
       "</div>"
      ],
      "text/plain": [
       "   heart_rate  heart_rate_max  heart_rate_min          start_time  \\\n",
       "0          80              82              79 2021-11-28 12:40:00   \n",
       "1          83              87              78 2021-11-28 12:41:00   \n",
       "2          82              85              80 2021-11-28 12:42:00   \n",
       "3          83              86              80 2021-11-28 12:43:00   \n",
       "4          80              82              77 2021-11-28 12:44:00   \n",
       "\n",
       "             end_time  \n",
       "0 2021-11-28 12:40:59  \n",
       "1 2021-11-28 12:41:59  \n",
       "2 2021-11-28 12:42:59  \n",
       "3 2021-11-28 12:43:59  \n",
       "4 2021-11-28 12:44:59  "
      ]
     },
     "execution_count": 71,
     "metadata": {},
     "output_type": "execute_result"
    }
   ],
   "source": [
    "df_heart_rate_json.head()"
   ]
  },
  {
   "cell_type": "markdown",
   "id": "4012007a-1ddc-4c4a-bcfa-4f4ae912eeeb",
   "metadata": {},
   "source": [
    "##### Calendar Data"
   ]
  },
  {
   "cell_type": "code",
   "execution_count": 67,
   "id": "535800be-36af-4a04-9b3e-b24d96a84942",
   "metadata": {},
   "outputs": [],
   "source": [
    "# Load CSV file\n",
    "cal_base_dir = os.path.join('data', 'Calendar Data')\n",
    "df_calendar = pd.read_csv(os.path.join('data', 'Calendar Data', '22.11.2021.csv'), sep='\\t')\n",
    "\n",
    "# Rename columns with simpler names\n",
    "df_calendar = df_calendar.rename(columns={'Given planned earliest start' : 'start_time', 'Given planned earliest end' : 'end_time'})\n",
    "df_calendar = df_calendar.drop(['Notes', 'Assigned Resources', 'Additional Title'], axis=1)\n",
    "\n",
    "# Convert date columns into date format\n",
    "df_calendar['start_time'] = pd.to_datetime(df_calendar['start_time'], dayfirst=True)\n",
    "df_calendar['end_time'] = pd.to_datetime(df_calendar['end_time'], dayfirst=True)\n",
    "\n",
    "# Sort Dataframe by date\n",
    "df_calendar = df_calendar.sort_values(by=['start_time'], ascending=True, ignore_index=True)"
   ]
  },
  {
   "cell_type": "code",
   "execution_count": 72,
   "id": "dcfba10f-7c9b-4420-bfbf-0404f3509bd6",
   "metadata": {},
   "outputs": [
    {
     "data": {
      "text/html": [
       "<div>\n",
       "<style scoped>\n",
       "    .dataframe tbody tr th:only-of-type {\n",
       "        vertical-align: middle;\n",
       "    }\n",
       "\n",
       "    .dataframe tbody tr th {\n",
       "        vertical-align: top;\n",
       "    }\n",
       "\n",
       "    .dataframe thead th {\n",
       "        text-align: right;\n",
       "    }\n",
       "</style>\n",
       "<table border=\"1\" class=\"dataframe\">\n",
       "  <thead>\n",
       "    <tr style=\"text-align: right;\">\n",
       "      <th></th>\n",
       "      <th>Title</th>\n",
       "      <th>start_time</th>\n",
       "      <th>end_time</th>\n",
       "    </tr>\n",
       "  </thead>\n",
       "  <tbody>\n",
       "    <tr>\n",
       "      <th>0</th>\n",
       "      <td>Physio</td>\n",
       "      <td>2020-07-01 15:30:00</td>\n",
       "      <td>2020-07-01 16:30:00</td>\n",
       "    </tr>\n",
       "    <tr>\n",
       "      <th>1</th>\n",
       "      <td>Rdv edm pour les sats</td>\n",
       "      <td>2020-07-01 18:00:00</td>\n",
       "      <td>2020-07-01 19:00:00</td>\n",
       "    </tr>\n",
       "    <tr>\n",
       "      <th>2</th>\n",
       "      <td>Rdv Jessie sortie</td>\n",
       "      <td>2020-07-01 21:00:00</td>\n",
       "      <td>2020-07-01 22:00:00</td>\n",
       "    </tr>\n",
       "    <tr>\n",
       "      <th>3</th>\n",
       "      <td>Physio</td>\n",
       "      <td>2020-07-06 13:30:00</td>\n",
       "      <td>2020-07-06 14:30:00</td>\n",
       "    </tr>\n",
       "    <tr>\n",
       "      <th>4</th>\n",
       "      <td>Anni Clem Co</td>\n",
       "      <td>2020-07-07 12:00:00</td>\n",
       "      <td>2020-07-07 13:00:00</td>\n",
       "    </tr>\n",
       "  </tbody>\n",
       "</table>\n",
       "</div>"
      ],
      "text/plain": [
       "                   Title          start_time            end_time\n",
       "0                 Physio 2020-07-01 15:30:00 2020-07-01 16:30:00\n",
       "1  Rdv edm pour les sats 2020-07-01 18:00:00 2020-07-01 19:00:00\n",
       "2      Rdv Jessie sortie 2020-07-01 21:00:00 2020-07-01 22:00:00\n",
       "3                 Physio 2020-07-06 13:30:00 2020-07-06 14:30:00\n",
       "4           Anni Clem Co 2020-07-07 12:00:00 2020-07-07 13:00:00"
      ]
     },
     "execution_count": 72,
     "metadata": {},
     "output_type": "execute_result"
    }
   ],
   "source": [
    "df_calendar.head()"
   ]
  },
  {
   "cell_type": "markdown",
   "id": "ab8f622e-c6a5-4e5b-a729-9df3fdee18c4",
   "metadata": {},
   "source": [
    "##### Weather Data\n",
    "We can go back up to 5 days ago, but unfortunately not more than that."
   ]
  },
  {
   "cell_type": "code",
   "execution_count": 93,
   "id": "1da0a82a-a504-4fb8-8c4b-b48c94cf67ec",
   "metadata": {},
   "outputs": [],
   "source": [
    "APIKEY = '12c406b33039d61c116a70eefb3526bb' #your API Key here as string\n",
    "OpenWMap = OWM(APIKEY) # Use API key to get data\n",
    "mgr = OpenWMap.weather_manager()\n",
    "lausanne_lat = 46.5196535\n",
    "lausanne_lon = 6.6322734\n",
    "\n",
    "# Query current data\n",
    "observation_cur = mgr.weather_at_place('Lausanne') # give where you need to see the weather\n",
    "weather_cur = observation_cur.weather\n",
    "\n",
    "# Query yesterday data\n",
    "yesterday_epoch = formatting.to_UNIXtime(timestamps.yesterday())\n",
    "one_call_yesterday = mgr.one_call_history(lat=lausanne_lat, lon=lausanne_lon, dt=yesterday_epoch)\n",
    "weather_yesterday = one_call_yesterday.forecast_hourly\n",
    "\n",
    "# Query 3 days ago data\n",
    "nb_of_days = 3\n",
    "three_days_ago_epoch = int((datetime.now() - timedelta(days=nb_of_days)).replace(tzinfo=timezone.utc).timestamp())\n",
    "one_call_three_days_ago = mgr.one_call_history(lat=52.5244, lon=13.4105, dt=three_days_ago_epoch)\n",
    "weather_three_days_ago = one_call_three_days_ago.forecast_hourly"
   ]
  },
  {
   "cell_type": "code",
   "execution_count": 101,
   "id": "8276837f-ec8c-4893-a66f-3e54b5f61750",
   "metadata": {},
   "outputs": [
    {
     "name": "stdout",
     "output_type": "stream",
     "text": [
      "overcast clouds\n",
      "{'temp': 4.62, 'feels_like': 1.15}\n",
      "overcast clouds\n",
      "{'temp': 4.62, 'feels_like': 1.15}\n",
      "overcast clouds\n",
      "{'temp': 4.62, 'feels_like': 1.15}\n",
      "overcast clouds\n",
      "{'temp': 4.62, 'feels_like': 1.15}\n",
      "overcast clouds\n",
      "{'temp': 4.62, 'feels_like': 1.15}\n",
      "overcast clouds\n",
      "{'temp': 4.62, 'feels_like': 1.15}\n",
      "overcast clouds\n",
      "{'temp': 4.62, 'feels_like': 1.15}\n",
      "overcast clouds\n",
      "{'temp': 4.8, 'feels_like': 1.48}\n",
      "overcast clouds\n",
      "{'temp': 5.14, 'feels_like': 1.82}\n",
      "overcast clouds\n",
      "{'temp': 5.61, 'feels_like': 2.29}\n",
      "overcast clouds\n",
      "{'temp': 5.86, 'feels_like': 2.51}\n",
      "overcast clouds\n",
      "{'temp': 6.21, 'feels_like': 3.55}\n",
      "broken clouds\n",
      "{'temp': 7.13, 'feels_like': 4.48}\n",
      "overcast clouds\n",
      "{'temp': 7.21, 'feels_like': 4.8}\n",
      "overcast clouds\n",
      "{'temp': 7.02, 'feels_like': 4.73}\n",
      "overcast clouds\n",
      "{'temp': 6.83, 'feels_like': 4.48}\n",
      "overcast clouds\n",
      "{'temp': 6.7, 'feels_like': 4.35}\n",
      "broken clouds\n",
      "{'temp': 7.08, 'feels_like': 4.18}\n",
      "broken clouds\n",
      "{'temp': 6.88, 'feels_like': 4.16}\n",
      "broken clouds\n",
      "{'temp': 7.08, 'feels_like': 4.65}\n",
      "light intensity drizzle\n",
      "{'temp': 7.24, 'feels_like': 5.42}\n",
      "broken clouds\n",
      "{'temp': 7.27, 'feels_like': 4.64}\n",
      "broken clouds\n",
      "{'temp': 7.02, 'feels_like': 4.1}\n",
      "broken clouds\n",
      "{'temp': 7.25, 'feels_like': 4.85}\n"
     ]
    }
   ],
   "source": [
    "# Iterate over each hour of the day\n",
    "for i in range(len(weather_three_days_ago)):\n",
    "    print(weather_three_days_ago[i].detailed_status)\n",
    "    print(weather_three_days_ago[i].temperature('celsius'))"
   ]
  },
  {
   "cell_type": "code",
   "execution_count": 98,
   "id": "44d8202d-6637-46ee-ac82-eff9ce07b6c0",
   "metadata": {},
   "outputs": [],
   "source": [
    "nb_of_days = 5\n",
    "three_days_ago_epoch = int((datetime.now() - timedelta(days=nb_of_days)).replace(tzinfo=timezone.utc).timestamp())\n",
    "one_call_three_days_ago = mgr.one_call_history(lat=52.5244, lon=13.4105, dt=three_days_ago_epoch)\n",
    "weather_three_days_ago = one_call_three_days_ago.forecast_hourly"
   ]
  }
 ],
 "metadata": {
  "kernelspec": {
   "display_name": "Python 3",
   "language": "python",
   "name": "python3"
  },
  "language_info": {
   "codemirror_mode": {
    "name": "ipython",
    "version": 3
   },
   "file_extension": ".py",
   "mimetype": "text/x-python",
   "name": "python",
   "nbconvert_exporter": "python",
   "pygments_lexer": "ipython3",
   "version": "3.8.8"
  }
 },
 "nbformat": 4,
 "nbformat_minor": 5
}
