{
 "cells": [
  {
   "cell_type": "code",
   "execution_count": 1,
   "id": "dbc3cffe-d5fa-4ad1-91e7-ff8d830a1961",
   "metadata": {},
   "outputs": [],
   "source": [
    "import pandas as pd"
   ]
  },
  {
   "cell_type": "code",
   "execution_count": 47,
   "id": "de890dcb-d8d0-491e-ac65-03b24535bfff",
   "metadata": {},
   "outputs": [
    {
     "data": {
      "text/html": [
       "<div>\n",
       "<style scoped>\n",
       "    .dataframe tbody tr th:only-of-type {\n",
       "        vertical-align: middle;\n",
       "    }\n",
       "\n",
       "    .dataframe tbody tr th {\n",
       "        vertical-align: top;\n",
       "    }\n",
       "\n",
       "    .dataframe thead th {\n",
       "        text-align: right;\n",
       "    }\n",
       "</style>\n",
       "<table border=\"1\" class=\"dataframe\">\n",
       "  <thead>\n",
       "    <tr style=\"text-align: right;\">\n",
       "      <th></th>\n",
       "      <th>Mean</th>\n",
       "      <th>Lenght [s]</th>\n",
       "      <th>Time begin stress [s]</th>\n",
       "      <th>Hour</th>\n",
       "    </tr>\n",
       "  </thead>\n",
       "  <tbody>\n",
       "    <tr>\n",
       "      <th>1</th>\n",
       "      <td>112</td>\n",
       "      <td>60</td>\n",
       "      <td>177</td>\n",
       "      <td>10:35:00</td>\n",
       "    </tr>\n",
       "    <tr>\n",
       "      <th>2</th>\n",
       "      <td>126.4</td>\n",
       "      <td>300</td>\n",
       "      <td>257</td>\n",
       "      <td>11:55:00</td>\n",
       "    </tr>\n",
       "    <tr>\n",
       "      <th>3</th>\n",
       "      <td>129.7</td>\n",
       "      <td>1320</td>\n",
       "      <td>607</td>\n",
       "      <td>17:45:00</td>\n",
       "    </tr>\n",
       "    <tr>\n",
       "      <th>4</th>\n",
       "      <td>111.5</td>\n",
       "      <td>120</td>\n",
       "      <td>703</td>\n",
       "      <td>19:21:00</td>\n",
       "    </tr>\n",
       "    <tr>\n",
       "      <th>5</th>\n",
       "      <td>113</td>\n",
       "      <td>60</td>\n",
       "      <td>750</td>\n",
       "      <td>20:08:00</td>\n",
       "    </tr>\n",
       "    <tr>\n",
       "      <th>6</th>\n",
       "      <td>112</td>\n",
       "      <td>120</td>\n",
       "      <td>824</td>\n",
       "      <td>21:22:00</td>\n",
       "    </tr>\n",
       "    <tr>\n",
       "      <th>7</th>\n",
       "      <td>114.3</td>\n",
       "      <td>180</td>\n",
       "      <td>866</td>\n",
       "      <td>22:04:00</td>\n",
       "    </tr>\n",
       "    <tr>\n",
       "      <th>8</th>\n",
       "      <td>112</td>\n",
       "      <td>60</td>\n",
       "      <td>908</td>\n",
       "      <td>22:46:00</td>\n",
       "    </tr>\n",
       "  </tbody>\n",
       "</table>\n",
       "</div>"
      ],
      "text/plain": [
       "    Mean Lenght [s] Time begin stress [s]      Hour\n",
       "1    112         60                   177  10:35:00\n",
       "2  126.4        300                   257  11:55:00\n",
       "3  129.7       1320                   607  17:45:00\n",
       "4  111.5        120                   703  19:21:00\n",
       "5    113         60                   750  20:08:00\n",
       "6    112        120                   824  21:22:00\n",
       "7  114.3        180                   866  22:04:00\n",
       "8    112         60                   908  22:46:00"
      ]
     },
     "execution_count": 47,
     "metadata": {},
     "output_type": "execute_result"
    }
   ],
   "source": [
    "df_peaks = pd.read_csv('data/Daily Full/TMP.csv', skiprows=1).T\n",
    "df_peaks = df_peaks[[0, 1, 2, 3]] # Drop useless columns\n",
    "df_peaks = df_peaks.iloc[1:9, :] # Drop useless rows\n",
    "df_peaks.rename(columns={0: 'Mean', 1 : 'Lenght [s]', 2 : 'Time begin stress [s]', 3 : 'Hour'}) # Put right names to columns"
   ]
  }
 ],
 "metadata": {
  "kernelspec": {
   "display_name": "Python 3",
   "language": "python",
   "name": "python3"
  },
  "language_info": {
   "codemirror_mode": {
    "name": "ipython",
    "version": 3
   },
   "file_extension": ".py",
   "mimetype": "text/x-python",
   "name": "python",
   "nbconvert_exporter": "python",
   "pygments_lexer": "ipython3",
   "version": "3.8.8"
  }
 },
 "nbformat": 4,
 "nbformat_minor": 5
}
