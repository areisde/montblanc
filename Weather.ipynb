{
 "cells": [
  {
   "cell_type": "markdown",
   "id": "aca44645-b2b7-408e-88ad-41abdaf056b1",
   "metadata": {},
   "source": [
    "# Import"
   ]
  },
  {
   "cell_type": "code",
   "execution_count": 1,
   "id": "3c7bedfe-f400-4036-ba76-3032e6044090",
   "metadata": {},
   "outputs": [],
   "source": [
    "import pyowm"
   ]
  },
  {
   "cell_type": "markdown",
   "id": "ca2f6ea4-d9aa-4131-aa70-437fc0308caa",
   "metadata": {},
   "source": [
    "# Get Weather API Key\n",
    "Sign up to this website to get an API key and then come back here. Prepare variable for data extraction\n",
    "\n",
    "https://openweathermap.org/"
   ]
  },
  {
   "cell_type": "code",
   "execution_count": 21,
   "id": "26fc1c3b-dde8-4284-a33e-2c5fa64c5c42",
   "metadata": {},
   "outputs": [],
   "source": [
    "APIKEY = '12c406b33039d61c116a70eefb3526bb' #your API Key here as string\n",
    "OpenWMap = pyowm.OWM(APIKEY) # Use API key to get data\n",
    "mgr = OpenWMap.weather_manager()\n",
    "observation = mgr.weather_at_place('Lausanne') # give where you need to see the weather\n",
    "weather = observation.weather"
   ]
  },
  {
   "cell_type": "markdown",
   "id": "f23beb19-4791-47cf-b54d-58fc2f6c065d",
   "metadata": {},
   "source": [
    "# Information about Lausanne"
   ]
  },
  {
   "cell_type": "code",
   "execution_count": 19,
   "id": "d3a63914-b468-4421-b2e0-274bf57322df",
   "metadata": {},
   "outputs": [
    {
     "data": {
      "text/plain": [
       "'broken clouds'"
      ]
     },
     "execution_count": 19,
     "metadata": {},
     "output_type": "execute_result"
    }
   ],
   "source": [
    "weather.detailed_status  # detailed version of status (eg. 'light rain')"
   ]
  },
  {
   "cell_type": "code",
   "execution_count": 20,
   "id": "9259dd87-9227-44aa-8c00-b13c5fd47e20",
   "metadata": {},
   "outputs": [
    {
     "data": {
      "text/plain": [
       "{'temp': 6.85,\n",
       " 'temp_max': 10.69,\n",
       " 'temp_min': 2.56,\n",
       " 'feels_like': 3.79,\n",
       " 'temp_kf': None}"
      ]
     },
     "execution_count": 20,
     "metadata": {},
     "output_type": "execute_result"
    }
   ],
   "source": [
    "weather.temperature('celsius')"
   ]
  },
  {
   "cell_type": "markdown",
   "id": "06c31e2c-b18a-45ea-9e2e-c9bf910310f8",
   "metadata": {},
   "source": [
    "For more information : https://pyowm.readthedocs.io/en/latest/v3/code-recipes.html"
   ]
  }
 ],
 "metadata": {
  "kernelspec": {
   "display_name": "Python 3",
   "language": "python",
   "name": "python3"
  },
  "language_info": {
   "codemirror_mode": {
    "name": "ipython",
    "version": 3
   },
   "file_extension": ".py",
   "mimetype": "text/x-python",
   "name": "python",
   "nbconvert_exporter": "python",
   "pygments_lexer": "ipython3",
   "version": "3.8.8"
  }
 },
 "nbformat": 4,
 "nbformat_minor": 5
}
